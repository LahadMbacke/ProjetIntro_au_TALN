{
 "cells": [
  {
   "cell_type": "code",
   "execution_count": 34,
   "metadata": {},
   "outputs": [],
   "source": [
    "import numpy as np\n",
    "import pandas as pd\n",
    "from sklearn.model_selection import train_test_split\n",
    "from sklearn.dummy import DummyClassifier\n",
    "from sklearn.model_selection import train_test_split\n",
    "from sklearn.metrics import classification_report\n",
    "import re\n",
    "import nltk\n",
    "from nltk.corpus import stopwords\n",
    "from sklearn.feature_extraction.text import CountVectorizer\n",
    "from sklearn.svm import SVC\n",
    "from sklearn.metrics import accuracy_score\n",
    "import pandas as pd\n",
    "from sklearn.feature_extraction.text import TfidfVectorizer\n",
    "from sklearn.model_selection import train_test_split\n",
    "from sklearn.svm import SVC\n",
    "from sklearn.metrics import classification_report\n",
    "from gensim.models import Word2Vec\n",
    "from sklearn.metrics import classification_report\n",
    "import numpy as np\n",
    "\n"
   ]
  },
  {
   "cell_type": "code",
   "execution_count": 35,
   "metadata": {},
   "outputs": [
    {
     "data": {
      "text/html": [
       "<div>\n",
       "<style scoped>\n",
       "    .dataframe tbody tr th:only-of-type {\n",
       "        vertical-align: middle;\n",
       "    }\n",
       "\n",
       "    .dataframe tbody tr th {\n",
       "        vertical-align: top;\n",
       "    }\n",
       "\n",
       "    .dataframe thead th {\n",
       "        text-align: right;\n",
       "    }\n",
       "</style>\n",
       "<table border=\"1\" class=\"dataframe\">\n",
       "  <thead>\n",
       "    <tr style=\"text-align: right;\">\n",
       "      <th></th>\n",
       "      <th>doc_id</th>\n",
       "      <th>titre</th>\n",
       "      <th>type</th>\n",
       "      <th>difficulte</th>\n",
       "      <th>cout</th>\n",
       "      <th>ingredients</th>\n",
       "      <th>recette</th>\n",
       "    </tr>\n",
       "  </thead>\n",
       "  <tbody>\n",
       "    <tr>\n",
       "      <th>0</th>\n",
       "      <td>recette_221358.xml</td>\n",
       "      <td>Feuilleté de saumon et de poireau, sauce aux c...</td>\n",
       "      <td>Plat principal</td>\n",
       "      <td>Facile</td>\n",
       "      <td>Moyen</td>\n",
       "      <td>- 1 gros pavé de saumon - 100 g de crevettes d...</td>\n",
       "      <td>Couper finement le blanc et un peu de vert des...</td>\n",
       "    </tr>\n",
       "    <tr>\n",
       "      <th>1</th>\n",
       "      <td>recette_48656.xml</td>\n",
       "      <td>Cake poulet/moutarde/amandes</td>\n",
       "      <td>Entrée</td>\n",
       "      <td>Très facile</td>\n",
       "      <td>Bon marché</td>\n",
       "      <td>- 3 œufs - 150 g de farine - 1 sachet de levur...</td>\n",
       "      <td>Couper finement l'échalote, la faire revenir à...</td>\n",
       "    </tr>\n",
       "    <tr>\n",
       "      <th>2</th>\n",
       "      <td>recette_30049.xml</td>\n",
       "      <td>Bûche à la truite fumée (7ème rencontre)</td>\n",
       "      <td>Entrée</td>\n",
       "      <td>Moyennement difficile</td>\n",
       "      <td>Assez Cher</td>\n",
       "      <td>- 800 g de filet de truite saumonnée fumée en ...</td>\n",
       "      <td>Faites blanchir les épinards à l'eau bouillant...</td>\n",
       "    </tr>\n",
       "    <tr>\n",
       "      <th>3</th>\n",
       "      <td>recette_71424.xml</td>\n",
       "      <td>Gâteau au yaourt au coco sans huile de laetitia</td>\n",
       "      <td>Dessert</td>\n",
       "      <td>Très facile</td>\n",
       "      <td>Bon marché</td>\n",
       "      <td>- 1 pot de yaourt - 1 pot de lait de coco - 3 ...</td>\n",
       "      <td>Mélanger dans l'ordre tous les ingrédients en ...</td>\n",
       "    </tr>\n",
       "    <tr>\n",
       "      <th>4</th>\n",
       "      <td>recette_217204.xml</td>\n",
       "      <td>Crêpes au canard laqué</td>\n",
       "      <td>Entrée</td>\n",
       "      <td>Moyennement difficile</td>\n",
       "      <td>Moyen</td>\n",
       "      <td>- 90 g de farine - 45 g de maïzena - 2 œufs - ...</td>\n",
       "      <td>Fouetter les œufs avec l'eau, le lait et le su...</td>\n",
       "    </tr>\n",
       "    <tr>\n",
       "      <th>...</th>\n",
       "      <td>...</td>\n",
       "      <td>...</td>\n",
       "      <td>...</td>\n",
       "      <td>...</td>\n",
       "      <td>...</td>\n",
       "      <td>...</td>\n",
       "      <td>...</td>\n",
       "    </tr>\n",
       "    <tr>\n",
       "      <th>12468</th>\n",
       "      <td>recette_88545.xml</td>\n",
       "      <td>Tarte thon et courgettes</td>\n",
       "      <td>Plat principal</td>\n",
       "      <td>Facile</td>\n",
       "      <td>Bon marché</td>\n",
       "      <td>- 1 pâte feuilleté - 2 œufs - 2 courgettes moy...</td>\n",
       "      <td>Couper les courgettes en fines rondelles, les ...</td>\n",
       "    </tr>\n",
       "    <tr>\n",
       "      <th>12469</th>\n",
       "      <td>recette_36440.xml</td>\n",
       "      <td>Gratin de légumes à la viande</td>\n",
       "      <td>Plat principal</td>\n",
       "      <td>Facile</td>\n",
       "      <td>Bon marché</td>\n",
       "      <td>- 500 g de pommes de terre  - 400 g de carotte...</td>\n",
       "      <td>Epluchez les pommes de terre et lavez-les. Cou...</td>\n",
       "    </tr>\n",
       "    <tr>\n",
       "      <th>12470</th>\n",
       "      <td>recette_174633.xml</td>\n",
       "      <td>Tagliatelles fraiches au Montepulciano</td>\n",
       "      <td>Plat principal</td>\n",
       "      <td>Difficile</td>\n",
       "      <td>Moyen</td>\n",
       "      <td>- Pour les tagliatelles : - 150 g de semoule f...</td>\n",
       "      <td>Je conseille de préparer les tagliatelles la v...</td>\n",
       "    </tr>\n",
       "    <tr>\n",
       "      <th>12471</th>\n",
       "      <td>recette_43030.xml</td>\n",
       "      <td>Bavarois praliné pistache, coeur de mousse au ...</td>\n",
       "      <td>Dessert</td>\n",
       "      <td>Difficile</td>\n",
       "      <td>Assez Cher</td>\n",
       "      <td>- Pour le biscuit Dacquoise : - 160 g de blanc...</td>\n",
       "      <td>Petits commentaires :J'ai indiqué les recettes...</td>\n",
       "    </tr>\n",
       "    <tr>\n",
       "      <th>12472</th>\n",
       "      <td>recette_56276.xml</td>\n",
       "      <td>Grand tralala au chocolat</td>\n",
       "      <td>Dessert</td>\n",
       "      <td>Difficile</td>\n",
       "      <td>Moyen</td>\n",
       "      <td>- Pour la base craquante: - 60 g de crêpes den...</td>\n",
       "      <td>Faites fondre les 150 g de chocolat pour la fe...</td>\n",
       "    </tr>\n",
       "  </tbody>\n",
       "</table>\n",
       "<p>12473 rows × 7 columns</p>\n",
       "</div>"
      ],
      "text/plain": [
       "                   doc_id                                              titre  \\\n",
       "0      recette_221358.xml  Feuilleté de saumon et de poireau, sauce aux c...   \n",
       "1       recette_48656.xml                       Cake poulet/moutarde/amandes   \n",
       "2       recette_30049.xml           Bûche à la truite fumée (7ème rencontre)   \n",
       "3       recette_71424.xml    Gâteau au yaourt au coco sans huile de laetitia   \n",
       "4      recette_217204.xml                             Crêpes au canard laqué   \n",
       "...                   ...                                                ...   \n",
       "12468   recette_88545.xml                           Tarte thon et courgettes   \n",
       "12469   recette_36440.xml                      Gratin de légumes à la viande   \n",
       "12470  recette_174633.xml             Tagliatelles fraiches au Montepulciano   \n",
       "12471   recette_43030.xml  Bavarois praliné pistache, coeur de mousse au ...   \n",
       "12472   recette_56276.xml                          Grand tralala au chocolat   \n",
       "\n",
       "                 type             difficulte        cout  \\\n",
       "0      Plat principal                 Facile       Moyen   \n",
       "1              Entrée            Très facile  Bon marché   \n",
       "2              Entrée  Moyennement difficile  Assez Cher   \n",
       "3             Dessert            Très facile  Bon marché   \n",
       "4              Entrée  Moyennement difficile       Moyen   \n",
       "...               ...                    ...         ...   \n",
       "12468  Plat principal                 Facile  Bon marché   \n",
       "12469  Plat principal                 Facile  Bon marché   \n",
       "12470  Plat principal              Difficile       Moyen   \n",
       "12471         Dessert              Difficile  Assez Cher   \n",
       "12472         Dessert              Difficile       Moyen   \n",
       "\n",
       "                                             ingredients  \\\n",
       "0      - 1 gros pavé de saumon - 100 g de crevettes d...   \n",
       "1      - 3 œufs - 150 g de farine - 1 sachet de levur...   \n",
       "2      - 800 g de filet de truite saumonnée fumée en ...   \n",
       "3      - 1 pot de yaourt - 1 pot de lait de coco - 3 ...   \n",
       "4      - 90 g de farine - 45 g de maïzena - 2 œufs - ...   \n",
       "...                                                  ...   \n",
       "12468  - 1 pâte feuilleté - 2 œufs - 2 courgettes moy...   \n",
       "12469  - 500 g de pommes de terre  - 400 g de carotte...   \n",
       "12470  - Pour les tagliatelles : - 150 g de semoule f...   \n",
       "12471  - Pour le biscuit Dacquoise : - 160 g de blanc...   \n",
       "12472  - Pour la base craquante: - 60 g de crêpes den...   \n",
       "\n",
       "                                                 recette  \n",
       "0      Couper finement le blanc et un peu de vert des...  \n",
       "1      Couper finement l'échalote, la faire revenir à...  \n",
       "2      Faites blanchir les épinards à l'eau bouillant...  \n",
       "3      Mélanger dans l'ordre tous les ingrédients en ...  \n",
       "4      Fouetter les œufs avec l'eau, le lait et le su...  \n",
       "...                                                  ...  \n",
       "12468  Couper les courgettes en fines rondelles, les ...  \n",
       "12469  Epluchez les pommes de terre et lavez-les. Cou...  \n",
       "12470  Je conseille de préparer les tagliatelles la v...  \n",
       "12471  Petits commentaires :J'ai indiqué les recettes...  \n",
       "12472  Faites fondre les 150 g de chocolat pour la fe...  \n",
       "\n",
       "[12473 rows x 7 columns]"
      ]
     },
     "execution_count": 35,
     "metadata": {},
     "output_type": "execute_result"
    }
   ],
   "source": [
    "# Prendre en main les données\n",
    "data = pd.read_csv(\"../data/train.csv\")\n",
    "data"
   ]
  },
  {
   "cell_type": "code",
   "execution_count": 36,
   "metadata": {},
   "outputs": [
    {
     "data": {
      "text/plain": [
       "Index(['doc_id', 'titre', 'type', 'difficulte', 'cout', 'ingredients',\n",
       "       'recette'],\n",
       "      dtype='object')"
      ]
     },
     "execution_count": 36,
     "metadata": {},
     "output_type": "execute_result"
    }
   ],
   "source": [
    "data.columns\n"
   ]
  },
  {
   "cell_type": "code",
   "execution_count": null,
   "metadata": {},
   "outputs": [],
   "source": []
  },
  {
   "cell_type": "code",
   "execution_count": 37,
   "metadata": {},
   "outputs": [
    {
     "name": "stdout",
     "output_type": "stream",
     "text": [
      "                precision    recall  f1-score   support\n",
      "\n",
      "       Dessert       0.28      0.29      0.29      1092\n",
      "        Entrée       0.25      0.22      0.24       912\n",
      "Plat principal       0.46      0.47      0.46      1738\n",
      "\n",
      "      accuracy                           0.36      3742\n",
      "     macro avg       0.33      0.33      0.33      3742\n",
      "  weighted avg       0.36      0.36      0.36      3742\n",
      "\n"
     ]
    }
   ],
   "source": [
    "# Methode Baseline\n",
    "\n",
    "y = data['type']\n",
    "data['combined'] = data['titre'] + data['recette']\n",
    "X = data['combined']\n",
    "X_train, X_test, y_train, y_test = train_test_split(X, y, test_size=0.3, random_state = 42)\n",
    "\n",
    "dummy = DummyClassifier(strategy='stratified')\n",
    "dummy.fit(X_train, y_train)\n",
    "\n",
    "y_pred = dummy.predict(X_test)\n",
    "\n",
    "print(classification_report(y_test, y_pred))\n"
   ]
  },
  {
   "cell_type": "code",
   "execution_count": 80,
   "metadata": {},
   "outputs": [],
   "source": [
    "### Run2: TF-IDF"
   ]
  },
  {
   "cell_type": "code",
   "execution_count": 70,
   "metadata": {},
   "outputs": [
    {
     "name": "stdout",
     "output_type": "stream",
     "text": [
      "                precision    recall  f1-score   support\n",
      "\n",
      "       Dessert       0.98      0.99      0.98       407\n",
      "        Entrée       0.76      0.69      0.72       337\n",
      "Plat principal       0.85      0.88      0.86       644\n",
      "\n",
      "      accuracy                           0.87      1388\n",
      "     macro avg       0.86      0.85      0.86      1388\n",
      "  weighted avg       0.86      0.87      0.86      1388\n",
      "\n"
     ]
    }
   ],
   "source": [
    "data = pd.read_csv(\"../data/train.csv\")\n",
    "test = pd.read_csv(\"../data/test.csv\")\n",
    "\n",
    "\n",
    "data['combined'] = data['titre'] + data['recette']\n",
    "\n",
    "X = data['combined']\n",
    "y = data['type']\n",
    "\n",
    "test['combined'] = test['titre'] + test['recette']\n",
    "X_testt = test['combined']\n",
    "y_testt = test['type']\n",
    "\n",
    "X_train, X_test, y_train, y_test = train_test_split(X, y, test_size=0.3, random_state=42)\n",
    "\n",
    "tfidf = TfidfVectorizer()\n",
    "\n",
    "X_train_tfidf = tfidf.fit_transform(X_train)\n",
    "X_test_tfidf = tfidf.transform(X_testt)\n",
    "\n",
    "svm = SVC(kernel='linear', C=1, random_state=42)\n",
    "\n",
    "svm.fit(X_train_tfidf, y_train)\n",
    "\n",
    "y_pred = svm.predict(X_test_tfidf)\n",
    "print(classification_report(y_testt, y_pred)) "
   ]
  },
  {
   "cell_type": "code",
   "execution_count": null,
   "metadata": {},
   "outputs": [],
   "source": []
  },
  {
   "cell_type": "code",
   "execution_count": 50,
   "metadata": {},
   "outputs": [
    {
     "name": "stdout",
     "output_type": "stream",
     "text": [
      "Evaluation Metrics:\n",
      "Accuracy: 0.8652737752161384\n",
      "Precision: 0.8627504141389174\n",
      "Recall: 0.8652737752161384\n",
      "F1 Score: 0.8634434024360103\n",
      "Confusion Matrix:\n",
      "[[403   1   3]\n",
      " [  5 232 100]\n",
      " [  5  73 566]]\n",
      "Classification Report:\n",
      "                precision    recall  f1-score   support\n",
      "\n",
      "       Dessert       0.98      0.99      0.98       407\n",
      "        Entrée       0.76      0.69      0.72       337\n",
      "Plat principal       0.85      0.88      0.86       644\n",
      "\n",
      "      accuracy                           0.87      1388\n",
      "     macro avg       0.86      0.85      0.86      1388\n",
      "  weighted avg       0.86      0.87      0.86      1388\n",
      "\n"
     ]
    }
   ],
   "source": [
    "from sklearn.metrics import accuracy_score, precision_score, recall_score, f1_score, confusion_matrix, classification_report\n",
    "\n",
    "# Compute evaluation metrics\n",
    "accuracy = accuracy_score(y_testt, y_pred)\n",
    "precision = precision_score(y_testt, y_pred, average='weighted')\n",
    "recall = recall_score(y_testt, y_pred, average='weighted')\n",
    "f1 = f1_score(y_testt, y_pred, average='weighted')\n",
    "conf_matrix = confusion_matrix(y_testt, y_pred)\n",
    "class_report = classification_report(y_testt, y_pred)\n",
    "\n",
    "# Print the evaluation metrics\n",
    "print(\"Evaluation Metrics:\")\n",
    "print(f\"Accuracy: {accuracy}\")\n",
    "print(f\"Precision: {precision}\")\n",
    "print(f\"Recall: {recall}\")\n",
    "print(f\"F1 Score: {f1}\")\n",
    "print(\"Confusion Matrix:\")\n",
    "print(conf_matrix)\n",
    "print(\"Classification Report:\")\n",
    "print(class_report)"
   ]
  },
  {
   "cell_type": "code",
   "execution_count": null,
   "metadata": {},
   "outputs": [],
   "source": []
  },
  {
   "cell_type": "code",
   "execution_count": 40,
   "metadata": {},
   "outputs": [],
   "source": [
    "\n",
    "stopwords = nltk.corpus.stopwords.words('french')\n",
    "\n",
    "def clean_text(text):\n",
    "    text = re.sub(r'<.*?>', '', text) #Remove HTML tags\n",
    "    text = re.sub(r'[^a-zA-Z]', ' ', text) #Remove punctuation\n",
    "    text = text.lower() #Convert to lowercase\n",
    "    text = text.split() #Split the text\n",
    "    text = [word for word in text if not word in set(stopwords)] #Remove stopwords\n",
    "    text = ' '.join(text)\n",
    "    return text\n",
    "\n",
    "def stemmer(text):\n",
    "    text = text.split()\n",
    "    stemmer = nltk.PorterStemmer()\n",
    "    stemmed_words = [stemmer.stem(word) for word in text]\n",
    "    text = ' '.join(stemmed_words)\n",
    "    return text"
   ]
  },
  {
   "cell_type": "code",
   "execution_count": 41,
   "metadata": {},
   "outputs": [],
   "source": []
  },
  {
   "cell_type": "code",
   "execution_count": null,
   "metadata": {},
   "outputs": [],
   "source": []
  },
  {
   "cell_type": "code",
   "execution_count": 81,
   "metadata": {},
   "outputs": [],
   "source": [
    "### Run3: Word2Vec\n"
   ]
  },
  {
   "cell_type": "code",
   "execution_count": 71,
   "metadata": {},
   "outputs": [
    {
     "name": "stdout",
     "output_type": "stream",
     "text": [
      "Classification Report Word2Vec:\n",
      "                precision    recall  f1-score   support\n",
      "\n",
      "       Dessert       0.95      0.99      0.97       407\n",
      "        Entrée       0.77      0.46      0.58       337\n",
      "Plat principal       0.78      0.92      0.84       644\n",
      "\n",
      "      accuracy                           0.83      1388\n",
      "     macro avg       0.83      0.79      0.80      1388\n",
      "  weighted avg       0.82      0.83      0.81      1388\n",
      "\n"
     ]
    }
   ],
   "source": [
    " #Modèle Word2Vec\n",
    "\n",
    "test = pd.read_csv(\"../data/test.csv\")\n",
    "test['combined'] = test['titre'] + test['recette']\n",
    "X_testt = test['combined']\n",
    "y_testt = test['type']\n",
    "\n",
    "\n",
    "\n",
    "from sklearn.svm import SVC\n",
    "corpus = [sentence.split() for sentence in X_train]\n",
    "word2vec_model = Word2Vec(corpus, vector_size=100, window=5, min_count=1, sg=1)\n",
    "\n",
    "# Calcul des vecteurs de mots moyens pour chaque document\n",
    "def document_vector(word2vec_model, doc):\n",
    "    \"\"\"Calculer le vecteur moyen pour un document en utilisant les vecteurs de mots Word2Vec\"\"\"\n",
    "    # filtrer les mots absents dans le vocabulaire\n",
    "    doc = [word for word in doc if word in word2vec_model.wv.key_to_index]\n",
    "    if len(doc) != 0:\n",
    "        return np.mean(word2vec_model.wv[doc], axis=0)\n",
    "    else:\n",
    "        return np.zeros(word2vec_model.vector_size)\n",
    "\n",
    "X_train_word2vec = np.array([document_vector(word2vec_model, doc.split()) for doc in X_train])\n",
    "X_test_word2vec = np.array([document_vector(word2vec_model, doc.split()) for doc in X_testt])\n",
    "\n",
    "svm_classifier = SVC(kernel='linear', C=1, random_state=42)\n",
    "svm_classifier.fit(X_train_word2vec, y_train)\n",
    "\n",
    "\n",
    "\n",
    "\n",
    "y_pred_word2vec = svm_classifier.predict(X_test_word2vec)\n",
    "\n",
    "print(\"Classification Report Word2Vec:\")\n",
    "print(classification_report(y_testt, y_pred_word2vec))\n"
   ]
  },
  {
   "cell_type": "code",
   "execution_count": 82,
   "metadata": {},
   "outputs": [],
   "source": [
    "### Run4: CountVectorizer"
   ]
  },
  {
   "cell_type": "code",
   "execution_count": 83,
   "metadata": {},
   "outputs": [
    {
     "name": "stdout",
     "output_type": "stream",
     "text": [
      "Classification Report CountVectorizer:\n",
      "                precision    recall  f1-score   support\n",
      "\n",
      "       Dessert       0.96      0.99      0.98       407\n",
      "        Entrée       0.77      0.63      0.69       337\n",
      "Plat principal       0.83      0.89      0.86       644\n",
      "\n",
      "      accuracy                           0.86      1388\n",
      "     macro avg       0.85      0.84      0.84      1388\n",
      "  weighted avg       0.85      0.86      0.85      1388\n",
      "\n"
     ]
    }
   ],
   "source": [
    "## Modèle CountVectorizer\n",
    "test = pd.read_csv(\"../data/test.csv\")\n",
    "test['combined'] = test['titre'] + test['recette']\n",
    "X_testt = test['combined']\n",
    "y_testt = test['type']\n",
    "\n",
    "vectorizer = CountVectorizer()\n",
    "\n",
    "X_train_counts = vectorizer.fit_transform(X_train)\n",
    "X_test_counts = vectorizer.transform(X_testt)\n",
    "\n",
    "svm_classifier = SVC(random_state=42)\n",
    "svm_classifier.fit(X_train_counts, y_train)\n",
    "\n",
    "y_pred_counts = svm_classifier.predict(X_test_counts)\n",
    "\n",
    "# Print the classification report\n",
    "print(\"Classification Report CountVectorizer:\")\n",
    "print(classification_report(y_testt, y_pred_counts))"
   ]
  },
  {
   "cell_type": "code",
   "execution_count": 67,
   "metadata": {},
   "outputs": [
    {
     "name": "stdout",
     "output_type": "stream",
     "text": [
      "Evaluation Metrics:\n",
      "Accuracy: 0.8523054755043228\n",
      "Precision: 0.8478986016196004\n",
      "Recall: 0.8523054755043228\n",
      "F1 Score: 0.8474590818283543\n",
      "Confusion Matrix:\n",
      "[[403   2   2]\n",
      " [ 11 206 120]\n",
      " [  7  63 574]]\n",
      "Classification Report:\n",
      "                precision    recall  f1-score   support\n",
      "\n",
      "       Dessert       0.96      0.99      0.97       407\n",
      "        Entrée       0.76      0.61      0.68       337\n",
      "Plat principal       0.82      0.89      0.86       644\n",
      "\n",
      "      accuracy                           0.85      1388\n",
      "     macro avg       0.85      0.83      0.84      1388\n",
      "  weighted avg       0.85      0.85      0.85      1388\n",
      "\n"
     ]
    }
   ],
   "source": [
    "from sklearn.metrics import accuracy_score, precision_score, recall_score, f1_score, confusion_matrix, classification_report\n",
    "\n",
    "# Compute evaluation metrics\n",
    "accuracy = accuracy_score(y_testt, y_pred_counts)\n",
    "precision = precision_score(y_testt, y_pred_counts, average='weighted')\n",
    "recall = recall_score(y_testt, y_pred_counts, average='weighted')\n",
    "f1 = f1_score(y_testt, y_pred_counts, average='weighted')\n",
    "conf_matrix = confusion_matrix(y_testt, y_pred_counts)\n",
    "class_report = classification_report(y_testt, y_pred_counts)\n",
    "\n",
    "# Print the evaluation metrics\n",
    "print(\"Evaluation Metrics:\")\n",
    "print(f\"Accuracy: {accuracy}\")\n",
    "print(f\"Precision: {precision}\")\n",
    "print(f\"Recall: {recall}\")\n",
    "print(f\"F1 Score: {f1}\")\n",
    "print(\"Confusion Matrix:\")\n",
    "print(conf_matrix)\n",
    "print(\"Classification Report:\")\n",
    "print(class_report)"
   ]
  },
  {
   "cell_type": "code",
   "execution_count": null,
   "metadata": {},
   "outputs": [],
   "source": [
    "######### TEST TF-IDF avec Nettotage de texte et Stemming   #########"
   ]
  },
  {
   "cell_type": "code",
   "execution_count": 66,
   "metadata": {},
   "outputs": [
    {
     "name": "stderr",
     "output_type": "stream",
     "text": [
      "[nltk_data] Downloading package stopwords to /home/lahad/nltk_data...\n",
      "[nltk_data]   Package stopwords is already up-to-date!\n"
     ]
    },
    {
     "name": "stdout",
     "output_type": "stream",
     "text": [
      "                precision    recall  f1-score   support\n",
      "\n",
      "       Dessert       0.97      1.00      0.98       407\n",
      "        Entrée       0.79      0.69      0.74       337\n",
      "Plat principal       0.85      0.89      0.87       644\n",
      "\n",
      "      accuracy                           0.87      1388\n",
      "     macro avg       0.87      0.86      0.86      1388\n",
      "  weighted avg       0.87      0.87      0.87      1388\n",
      "\n"
     ]
    }
   ],
   "source": [
    "# Prétraitement des données d'entraînement\n",
    "data['combined'] = data['titre'] + ' ' + data['recette']\n",
    "data['combined'] = data['combined'].apply(clean_text)\n",
    "data['combined'] = data['combined'].apply(stemmer)\n",
    "\n",
    "# Prétraitement des données de test\n",
    "test['combined'] = test['titre'] + ' ' + test['recette']\n",
    "test['combined'] = test['combined'].apply(clean_text)\n",
    "test['combined'] = test['combined'].apply(stemmer)\n",
    "X_testt = test['combined']\n",
    "y_testt = test['type']\n",
    "\n",
    "# Séparation des données en ensembles d'entraînement et de test\n",
    "X_train, X_test, y_train, y_test = train_test_split(data['combined'], data['type'], test_size=0.3, random_state=42)\n",
    "\n",
    "# Vecteur TF-IDF\n",
    "tfidf = TfidfVectorizer()\n",
    "X_train_tfidf = tfidf.fit_transform(X_train)\n",
    "X_test_tfidf = tfidf.transform(X_testt)  # Utiliser transform, pas fit_transform\n",
    "\n",
    "# Entraînement du modèle SVM\n",
    "svm = SVC(kernel='linear', C=1, random_state=42)\n",
    "svm.fit(X_train_tfidf, y_train)\n",
    "\n",
    "# Prédiction sur les données de test\n",
    "y_pred = svm.predict(X_test_tfidf)\n",
    "\n",
    "# Évaluation du modèle\n",
    "print(classification_report(y_testt, y_pred))\n"
   ]
  },
  {
   "cell_type": "code",
   "execution_count": null,
   "metadata": {},
   "outputs": [],
   "source": [
    "####################### TEST Hyperpramètres #######################"
   ]
  },
  {
   "cell_type": "code",
   "execution_count": 72,
   "metadata": {},
   "outputs": [
    {
     "name": "stdout",
     "output_type": "stream",
     "text": [
      "Classification Report Word2Vec:\n",
      "                precision    recall  f1-score   support\n",
      "\n",
      "       Dessert       0.95      0.99      0.97       407\n",
      "        Entrée       0.76      0.50      0.60       337\n",
      "Plat principal       0.79      0.91      0.85       644\n",
      "\n",
      "      accuracy                           0.83      1388\n",
      "     macro avg       0.83      0.80      0.81      1388\n",
      "  weighted avg       0.83      0.83      0.82      1388\n",
      "\n",
      "Best Parameters:\n",
      "{'C': 10, 'kernel': 'rbf'}\n"
     ]
    }
   ],
   "source": [
    "## Word2Vec\n",
    "from sklearn.model_selection import GridSearchCV\n",
    "\n",
    "# Définir les paramètres à tester\n",
    "parameters = {'kernel':('linear', 'rbf'), 'C':[0.1, 1, 10]}\n",
    "\n",
    "# Créer l'objet GridSearchCV\n",
    "clf = GridSearchCV(svm_classifier, parameters)\n",
    "\n",
    "# Entraîner le modèle\n",
    "clf.fit(X_train_word2vec, y_train)\n",
    "\n",
    "# Prédiction sur les données de test\n",
    "y_pred_word2vec = clf.predict(X_test_word2vec)\n",
    "\n",
    "# Évaluation du modèle\n",
    "print(\"Classification Report Word2Vec:\")\n",
    "print(classification_report(y_testt, y_pred_word2vec))\n",
    "\n",
    "# Afficher les meilleurs paramètres\n",
    "print(\"Best Parameters:\")\n",
    "print(clf.best_params_)"
   ]
  },
  {
   "cell_type": "code",
   "execution_count": null,
   "metadata": {},
   "outputs": [],
   "source": []
  },
  {
   "cell_type": "code",
   "execution_count": null,
   "metadata": {},
   "outputs": [],
   "source": []
  },
  {
   "cell_type": "code",
   "execution_count": null,
   "metadata": {},
   "outputs": [],
   "source": []
  },
  {
   "cell_type": "code",
   "execution_count": null,
   "metadata": {},
   "outputs": [],
   "source": []
  },
  {
   "cell_type": "code",
   "execution_count": null,
   "metadata": {},
   "outputs": [],
   "source": []
  }
 ],
 "metadata": {
  "kernelspec": {
   "display_name": "Python 3",
   "language": "python",
   "name": "python3"
  },
  "language_info": {
   "codemirror_mode": {
    "name": "ipython",
    "version": 3
   },
   "file_extension": ".py",
   "mimetype": "text/x-python",
   "name": "python",
   "nbconvert_exporter": "python",
   "pygments_lexer": "ipython3",
   "version": "3.10.12"
  }
 },
 "nbformat": 4,
 "nbformat_minor": 2
}
